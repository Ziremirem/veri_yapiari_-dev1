{
 "cells": [
  {
   "cell_type": "markdown",
   "id": "032d81b2",
   "metadata": {},
   "source": [
    "# 1\n",
    "x = 3 ----> floata çevirelim. Çevirdikten sonra beri tipinide yazdıralım.\n",
    "\n",
    "y = 4.5 -----> integere çevirelim. Çevirdikten sonra beri tipinide yazdıralım.\n",
    "\n",
    "z = \"8\" -----> integera çevirelim. Çevirdikten sonra beri tipinide yazdıralım.\n",
    "\n",
    "a = \"12\" -----> floata çevirelim. Çevirdikten sonra beri tipinide yazdıralım.\n",
    "\n",
    "b = \"46.8\" ------> integera çevirelim. Çevirdikten sonra beri tipinide yazdıralım."
   ]
  },
  {
   "cell_type": "code",
   "execution_count": 3,
   "id": "f1b735c0",
   "metadata": {},
   "outputs": [],
   "source": [
    "x=3\n",
    "x= float(x)"
   ]
  },
  {
   "cell_type": "code",
   "execution_count": 4,
   "id": "a57978a9",
   "metadata": {},
   "outputs": [
    {
     "data": {
      "text/plain": [
       "float"
      ]
     },
     "execution_count": 4,
     "metadata": {},
     "output_type": "execute_result"
    }
   ],
   "source": [
    "type(x)"
   ]
  },
  {
   "cell_type": "code",
   "execution_count": 5,
   "id": "6297f7c2",
   "metadata": {},
   "outputs": [],
   "source": [
    "y=4.5\n",
    "y = int(y)"
   ]
  },
  {
   "cell_type": "code",
   "execution_count": 6,
   "id": "5c1840cc",
   "metadata": {},
   "outputs": [
    {
     "data": {
      "text/plain": [
       "int"
      ]
     },
     "execution_count": 6,
     "metadata": {},
     "output_type": "execute_result"
    }
   ],
   "source": [
    "type(y)"
   ]
  },
  {
   "cell_type": "code",
   "execution_count": 7,
   "id": "ca409a1c",
   "metadata": {},
   "outputs": [],
   "source": [
    "z=\"8\"\n",
    "z=int(z)"
   ]
  },
  {
   "cell_type": "code",
   "execution_count": 8,
   "id": "864ace89",
   "metadata": {},
   "outputs": [
    {
     "data": {
      "text/plain": [
       "int"
      ]
     },
     "execution_count": 8,
     "metadata": {},
     "output_type": "execute_result"
    }
   ],
   "source": [
    "type(z)"
   ]
  },
  {
   "cell_type": "code",
   "execution_count": 11,
   "id": "d5f14cf5",
   "metadata": {},
   "outputs": [
    {
     "data": {
      "text/plain": [
       "12.0"
      ]
     },
     "execution_count": 11,
     "metadata": {},
     "output_type": "execute_result"
    }
   ],
   "source": [
    "a=\"12\"\n",
    "a=float(a)\n",
    "a"
   ]
  },
  {
   "cell_type": "code",
   "execution_count": 12,
   "id": "1bb7c97a",
   "metadata": {},
   "outputs": [
    {
     "data": {
      "text/plain": [
       "float"
      ]
     },
     "execution_count": 12,
     "metadata": {},
     "output_type": "execute_result"
    }
   ],
   "source": [
    "type(a)"
   ]
  },
  {
   "cell_type": "code",
   "execution_count": 15,
   "id": "3a4a4476",
   "metadata": {},
   "outputs": [
    {
     "ename": "ValueError",
     "evalue": "invalid literal for int() with base 10: '46.8'",
     "output_type": "error",
     "traceback": [
      "\u001b[1;31m---------------------------------------------------------------------------\u001b[0m",
      "\u001b[1;31mValueError\u001b[0m                                Traceback (most recent call last)",
      "Cell \u001b[1;32mIn[15], line 2\u001b[0m\n\u001b[0;32m      1\u001b[0m b \u001b[38;5;241m=\u001b[39m\u001b[38;5;124m\"\u001b[39m\u001b[38;5;124m46.8\u001b[39m\u001b[38;5;124m\"\u001b[39m\n\u001b[1;32m----> 2\u001b[0m b \u001b[38;5;241m=\u001b[39m \u001b[38;5;28;43mint\u001b[39;49m\u001b[43m(\u001b[49m\u001b[43mb\u001b[49m\u001b[43m)\u001b[49m\n",
      "\u001b[1;31mValueError\u001b[0m: invalid literal for int() with base 10: '46.8'"
     ]
    }
   ],
   "source": [
    "b =\"46.8\"\n",
    "b = int(b)"
   ]
  },
  {
   "cell_type": "markdown",
   "id": "95509718",
   "metadata": {},
   "source": [
    "# 2 \n",
    "İsimlerden oluşan üç değişkene yaş değerleri atanır. Belirlenen üç değişken birbiriyle karşılaştırma operatörleri ile karşılaştırılır. Bu karşılaştırmalara mantıksal operatörler de eklenir."
   ]
  },
  {
   "cell_type": "code",
   "execution_count": 16,
   "id": "50f77b4f",
   "metadata": {},
   "outputs": [],
   "source": [
    "ahmet=25\n",
    "latif=50\n",
    "emir=15"
   ]
  },
  {
   "cell_type": "code",
   "execution_count": 17,
   "id": "83aa4f05",
   "metadata": {},
   "outputs": [
    {
     "data": {
      "text/plain": [
       "False"
      ]
     },
     "execution_count": 17,
     "metadata": {},
     "output_type": "execute_result"
    }
   ],
   "source": [
    "ahmet ==latif"
   ]
  },
  {
   "cell_type": "code",
   "execution_count": 18,
   "id": "b59263b5",
   "metadata": {},
   "outputs": [
    {
     "data": {
      "text/plain": [
       "True"
      ]
     },
     "execution_count": 18,
     "metadata": {},
     "output_type": "execute_result"
    }
   ],
   "source": [
    "emir !=ahmet"
   ]
  },
  {
   "cell_type": "code",
   "execution_count": 19,
   "id": "4582067f",
   "metadata": {},
   "outputs": [
    {
     "data": {
      "text/plain": [
       "True"
      ]
     },
     "execution_count": 19,
     "metadata": {},
     "output_type": "execute_result"
    }
   ],
   "source": [
    "ahmet <50 and ahmet >12"
   ]
  },
  {
   "cell_type": "code",
   "execution_count": 24,
   "id": "19945f8d",
   "metadata": {},
   "outputs": [
    {
     "data": {
      "text/plain": [
       "True"
      ]
     },
     "execution_count": 24,
     "metadata": {},
     "output_type": "execute_result"
    }
   ],
   "source": [
    "emir > 9 or  latif > 52"
   ]
  },
  {
   "cell_type": "markdown",
   "id": "a1a0eb92",
   "metadata": {},
   "source": [
    "# 3\n",
    "Kullanıcıdan iki değer girmesini istenir. Girilen değerlerin toplama, çıkarma, çarpma, bölme sonuçlarını yazdırılır."
   ]
  },
  {
   "cell_type": "code",
   "execution_count": 35,
   "id": "3159da3d",
   "metadata": {},
   "outputs": [
    {
     "name": "stdout",
     "output_type": "stream",
     "text": [
      "96\n"
     ]
    }
   ],
   "source": [
    "sayi_1= input(\"1.sayıyı giriniz:  \")\n",
    "print(sayi_1)\n"
   ]
  },
  {
   "cell_type": "code",
   "execution_count": 33,
   "id": "81fba519",
   "metadata": {},
   "outputs": [
    {
     "name": "stdout",
     "output_type": "stream",
     "text": [
      "28\n"
     ]
    }
   ],
   "source": [
    "\n",
    "sayi_2= input(\"2.sayıyı giriniz:  \")\n",
    "print(sayi_2)"
   ]
  },
  {
   "cell_type": "code",
   "execution_count": 47,
   "id": "2e44223d",
   "metadata": {},
   "outputs": [
    {
     "name": "stdout",
     "output_type": "stream",
     "text": [
      "15\n",
      "56\n",
      "15 + 56 = 71\n"
     ]
    }
   ],
   "source": [
    "sayi_1= int(input(\"1.sayıyı giriniz:  \"))\n",
    "print(sayi_1)\n",
    "sayi_2= int(input(\"2.sayıyı giriniz:  \"))\n",
    "print(sayi_2)\n",
    "print(sayi_1, \"+\", sayi_2, \"=\", sayi_1+sayi_2)"
   ]
  },
  {
   "cell_type": "code",
   "execution_count": 48,
   "id": "f1f43d9f",
   "metadata": {},
   "outputs": [
    {
     "name": "stdout",
     "output_type": "stream",
     "text": [
      "18\n",
      "3\n",
      "18 - 3 = 15\n"
     ]
    }
   ],
   "source": [
    "sayi_1= int(input(\"1.sayıyı giriniz:  \"))\n",
    "print(sayi_1)\n",
    "sayi_2= int(input(\"2.sayıyı giriniz:  \"))\n",
    "print(sayi_2)\n",
    "print(sayi_1, \"-\", sayi_2, \"=\", sayi_1-sayi_2)"
   ]
  },
  {
   "cell_type": "code",
   "execution_count": 52,
   "id": "68731cc4",
   "metadata": {},
   "outputs": [
    {
     "name": "stdout",
     "output_type": "stream",
     "text": [
      "50\n",
      "5\n",
      "50 / 5 = 10.0\n"
     ]
    }
   ],
   "source": [
    "sayi_1= int(input(\"1.sayıyı giriniz:  \"))\n",
    "print(sayi_1)\n",
    "sayi_2= int(input(\"2.sayıyı giriniz:  \"))\n",
    "print(sayi_2)\n",
    "print(sayi_1, \"/\", sayi_2, \"=\", sayi_1/sayi_2)"
   ]
  },
  {
   "cell_type": "code",
   "execution_count": 53,
   "id": "de2785d1",
   "metadata": {},
   "outputs": [
    {
     "name": "stdout",
     "output_type": "stream",
     "text": [
      "12\n",
      "3\n",
      "12 * 3 = 36\n"
     ]
    }
   ],
   "source": [
    "sayi_1= int(input(\"1.sayıyı giriniz:  \"))\n",
    "print(sayi_1)\n",
    "sayi_2= int(input(\"2.sayıyı giriniz:  \"))\n",
    "print(sayi_2)\n",
    "print(sayi_1, \"*\", sayi_2, \"=\", sayi_1*sayi_2)"
   ]
  },
  {
   "cell_type": "markdown",
   "id": "060b0bea",
   "metadata": {},
   "source": [
    "# 4\n",
    "Kullanıcıdan isim, yaş, şehir ve meslek bilgilerini istenir ve cevaplarını yazdırılır."
   ]
  },
  {
   "cell_type": "code",
   "execution_count": 54,
   "id": "6f5dea59",
   "metadata": {},
   "outputs": [
    {
     "name": "stdout",
     "output_type": "stream",
     "text": [
      "irem\n",
      "22\n",
      "sakarya\n",
      "mühendis\n"
     ]
    }
   ],
   "source": [
    "kullanici_isim= input(\"kullanıcı isminizi gir:  \")\n",
    "print(kullanici_isim)\n",
    "kullanici_yas= input(\"kullanıcı yaşını giriniz: \")\n",
    "print(kullanici_yas)\n",
    "kullanici_sehir=input(\"kullanıcı şehirini giriniz: \")\n",
    "print(kullanici_sehir)\n",
    "kullanici_meslek=input(\"kullanıcı mesleğini giriniz:  \")\n",
    "print(kullanici_meslek)"
   ]
  },
  {
   "cell_type": "markdown",
   "id": "55e1a34e",
   "metadata": {},
   "source": [
    "# 5\n",
    "\"Hi-Kod Veri Bilimi Atölyesi\" ifadesini bir değişkene tanımlanır.\n",
    "\n",
    "\n",
    " 1. İfadedeki her bir kelimeyi (\"Hi-Kod\", \"Veri\", \"Bilimi\", \"Atölyesi\") değişken içinden seçilir. \n",
    " 2. İfadeyi hepsini büyük harf olacak hale çevrilir. (\"HI-KOD VERİ BİLİMİ ATÖLYESİ\") \n",
    " 3. İfadeyi hepsini büyük harf olacak hale çevrilir.(\"hi-kod veri bilimi atölyesi\") \n",
    "\n",
    "\"0123456789\" ifadesindeki yalnızca çift sayıları ve yalnızca tek sayıları seçilir. (\"02468\", \"13579\")"
   ]
  },
  {
   "cell_type": "code",
   "execution_count": 56,
   "id": "0fc1bc40",
   "metadata": {},
   "outputs": [
    {
     "name": "stdout",
     "output_type": "stream",
     "text": [
      "Hi-Kod Veri Bilimi Atölyesi\n"
     ]
    }
   ],
   "source": [
    "x= \"Hi-Kod Veri Bilimi Atölyesi\"\n",
    "print(\"Hi-Kod\",\"Veri\", \"Bilimi\",\"Atölyesi\")"
   ]
  },
  {
   "cell_type": "code",
   "execution_count": 73,
   "id": "64829daf",
   "metadata": {},
   "outputs": [
    {
     "name": "stdout",
     "output_type": "stream",
     "text": [
      "hi-kod veri bilimi atölyesi\n"
     ]
    }
   ],
   "source": [
    "a= \"Hi-Kod Veri Bilimi Atölyesi\"\n",
    "print(a.lower())"
   ]
  },
  {
   "cell_type": "code",
   "execution_count": 74,
   "id": "009a538b",
   "metadata": {},
   "outputs": [
    {
     "name": "stdout",
     "output_type": "stream",
     "text": [
      "HI-KOD VERI BILIMI ATÖLYESI\n"
     ]
    }
   ],
   "source": [
    "print(a.upper())"
   ]
  }
 ],
 "metadata": {
  "kernelspec": {
   "display_name": "Python 3 (ipykernel)",
   "language": "python",
   "name": "python3"
  },
  "language_info": {
   "codemirror_mode": {
    "name": "ipython",
    "version": 3
   },
   "file_extension": ".py",
   "mimetype": "text/x-python",
   "name": "python",
   "nbconvert_exporter": "python",
   "pygments_lexer": "ipython3",
   "version": "3.9.4"
  }
 },
 "nbformat": 4,
 "nbformat_minor": 5
}
